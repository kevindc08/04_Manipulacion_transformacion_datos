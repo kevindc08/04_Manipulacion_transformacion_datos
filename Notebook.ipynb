{
 "cells": [
  {
   "cell_type": "markdown",
   "metadata": {},
   "source": [
    "### Importa Librerias"
   ]
  },
  {
   "cell_type": "code",
   "execution_count": 14,
   "metadata": {},
   "outputs": [],
   "source": [
    "import pandas as pd\n",
    "import matplotlib.pyplot as plt"
   ]
  },
  {
   "cell_type": "markdown",
   "metadata": {},
   "source": [
    "### 1.Cargar Datos"
   ]
  },
  {
   "cell_type": "code",
   "execution_count": 2,
   "metadata": {},
   "outputs": [],
   "source": [
    "empleados=pd.read_csv('data/Employee_salaries.csv')"
   ]
  },
  {
   "cell_type": "markdown",
   "metadata": {},
   "source": [
    "### 2.Explorecion Inicial"
   ]
  },
  {
   "cell_type": "code",
   "execution_count": 3,
   "metadata": {},
   "outputs": [
    {
     "name": "stdout",
     "output_type": "stream",
     "text": [
      "<class 'pandas.core.frame.DataFrame'>\n",
      "RangeIndex: 10291 entries, 0 to 10290\n",
      "Data columns (total 8 columns):\n",
      " #   Column           Non-Null Count  Dtype  \n",
      "---  ------           --------------  -----  \n",
      " 0   Department       10291 non-null  object \n",
      " 1   Department_Name  10291 non-null  object \n",
      " 2   Division         10291 non-null  object \n",
      " 3   Gender           10291 non-null  object \n",
      " 4   Base_Salary      10291 non-null  float64\n",
      " 5   Overtime_Pay     10291 non-null  float64\n",
      " 6   Longevity_Pay    10291 non-null  float64\n",
      " 7   Grade            10258 non-null  object \n",
      "dtypes: float64(3), object(5)\n",
      "memory usage: 643.3+ KB\n"
     ]
    }
   ],
   "source": [
    "empleados.info()"
   ]
  },
  {
   "cell_type": "code",
   "execution_count": 4,
   "metadata": {},
   "outputs": [
    {
     "name": "stdout",
     "output_type": "stream",
     "text": [
      "El datafame tiene 10291 registros y tiene la siguientes columnas Index(['Department', 'Department_Name', 'Division', 'Gender', 'Base_Salary',\n",
      "       'Overtime_Pay', 'Longevity_Pay', 'Grade'],\n",
      "      dtype='object')\n"
     ]
    }
   ],
   "source": [
    "print(f'El datafame tiene {len(empleados)} registros y tiene la siguientes columnas {empleados.columns}')"
   ]
  },
  {
   "cell_type": "markdown",
   "metadata": {},
   "source": [
    "### Mostrar los primeros registros"
   ]
  },
  {
   "cell_type": "code",
   "execution_count": 5,
   "metadata": {},
   "outputs": [
    {
     "data": {
      "text/html": [
       "<div>\n",
       "<style scoped>\n",
       "    .dataframe tbody tr th:only-of-type {\n",
       "        vertical-align: middle;\n",
       "    }\n",
       "\n",
       "    .dataframe tbody tr th {\n",
       "        vertical-align: top;\n",
       "    }\n",
       "\n",
       "    .dataframe thead th {\n",
       "        text-align: right;\n",
       "    }\n",
       "</style>\n",
       "<table border=\"1\" class=\"dataframe\">\n",
       "  <thead>\n",
       "    <tr style=\"text-align: right;\">\n",
       "      <th></th>\n",
       "      <th>Department</th>\n",
       "      <th>Department_Name</th>\n",
       "      <th>Division</th>\n",
       "      <th>Gender</th>\n",
       "      <th>Base_Salary</th>\n",
       "      <th>Overtime_Pay</th>\n",
       "      <th>Longevity_Pay</th>\n",
       "      <th>Grade</th>\n",
       "    </tr>\n",
       "  </thead>\n",
       "  <tbody>\n",
       "    <tr>\n",
       "      <th>0</th>\n",
       "      <td>ABS</td>\n",
       "      <td>Alcohol Beverage Services</td>\n",
       "      <td>ABS 85 Administration</td>\n",
       "      <td>M</td>\n",
       "      <td>175873.000</td>\n",
       "      <td>0.00</td>\n",
       "      <td>0.0</td>\n",
       "      <td>M2</td>\n",
       "    </tr>\n",
       "    <tr>\n",
       "      <th>1</th>\n",
       "      <td>ABS</td>\n",
       "      <td>Alcohol Beverage Services</td>\n",
       "      <td>ABS 85 Administration</td>\n",
       "      <td>M</td>\n",
       "      <td>145613.360</td>\n",
       "      <td>0.00</td>\n",
       "      <td>0.0</td>\n",
       "      <td>M3</td>\n",
       "    </tr>\n",
       "    <tr>\n",
       "      <th>2</th>\n",
       "      <td>ABS</td>\n",
       "      <td>Alcohol Beverage Services</td>\n",
       "      <td>ABS 85 Administration</td>\n",
       "      <td>F</td>\n",
       "      <td>136970.000</td>\n",
       "      <td>0.00</td>\n",
       "      <td>0.0</td>\n",
       "      <td>M3</td>\n",
       "    </tr>\n",
       "    <tr>\n",
       "      <th>3</th>\n",
       "      <td>ABS</td>\n",
       "      <td>Alcohol Beverage Services</td>\n",
       "      <td>ABS 85 Administrative Services</td>\n",
       "      <td>F</td>\n",
       "      <td>89432.694</td>\n",
       "      <td>0.00</td>\n",
       "      <td>2490.0</td>\n",
       "      <td>21</td>\n",
       "    </tr>\n",
       "    <tr>\n",
       "      <th>4</th>\n",
       "      <td>ABS</td>\n",
       "      <td>Alcohol Beverage Services</td>\n",
       "      <td>ABS 85 Administrative Services</td>\n",
       "      <td>F</td>\n",
       "      <td>78947.000</td>\n",
       "      <td>456.68</td>\n",
       "      <td>6257.7</td>\n",
       "      <td>16</td>\n",
       "    </tr>\n",
       "  </tbody>\n",
       "</table>\n",
       "</div>"
      ],
      "text/plain": [
       "  Department            Department_Name                        Division  \\\n",
       "0        ABS  Alcohol Beverage Services           ABS 85 Administration   \n",
       "1        ABS  Alcohol Beverage Services           ABS 85 Administration   \n",
       "2        ABS  Alcohol Beverage Services           ABS 85 Administration   \n",
       "3        ABS  Alcohol Beverage Services  ABS 85 Administrative Services   \n",
       "4        ABS  Alcohol Beverage Services  ABS 85 Administrative Services   \n",
       "\n",
       "  Gender  Base_Salary  Overtime_Pay  Longevity_Pay Grade  \n",
       "0      M   175873.000          0.00            0.0    M2  \n",
       "1      M   145613.360          0.00            0.0    M3  \n",
       "2      F   136970.000          0.00            0.0    M3  \n",
       "3      F    89432.694          0.00         2490.0    21  \n",
       "4      F    78947.000        456.68         6257.7    16  "
      ]
     },
     "execution_count": 5,
     "metadata": {},
     "output_type": "execute_result"
    }
   ],
   "source": [
    "empleados.head(5)"
   ]
  },
  {
   "cell_type": "code",
   "execution_count": 6,
   "metadata": {},
   "outputs": [
    {
     "data": {
      "text/html": [
       "<div>\n",
       "<style scoped>\n",
       "    .dataframe tbody tr th:only-of-type {\n",
       "        vertical-align: middle;\n",
       "    }\n",
       "\n",
       "    .dataframe tbody tr th {\n",
       "        vertical-align: top;\n",
       "    }\n",
       "\n",
       "    .dataframe thead th {\n",
       "        text-align: right;\n",
       "    }\n",
       "</style>\n",
       "<table border=\"1\" class=\"dataframe\">\n",
       "  <thead>\n",
       "    <tr style=\"text-align: right;\">\n",
       "      <th></th>\n",
       "      <th>Department</th>\n",
       "      <th>Department_Name</th>\n",
       "      <th>Division</th>\n",
       "      <th>Gender</th>\n",
       "      <th>Base_Salary</th>\n",
       "      <th>Overtime_Pay</th>\n",
       "      <th>Longevity_Pay</th>\n",
       "      <th>Grade</th>\n",
       "    </tr>\n",
       "  </thead>\n",
       "  <tbody>\n",
       "    <tr>\n",
       "      <th>739</th>\n",
       "      <td>CEC</td>\n",
       "      <td>Community Engagement Cluster</td>\n",
       "      <td>CEC 16 Community Partnerships</td>\n",
       "      <td>M</td>\n",
       "      <td>84218.44</td>\n",
       "      <td>0.00</td>\n",
       "      <td>0.00</td>\n",
       "      <td>N23</td>\n",
       "    </tr>\n",
       "    <tr>\n",
       "      <th>1180</th>\n",
       "      <td>COR</td>\n",
       "      <td>Correction and Rehabilitation</td>\n",
       "      <td>COR 42 DS MCCF Unit 3 Security</td>\n",
       "      <td>M</td>\n",
       "      <td>58263.00</td>\n",
       "      <td>51204.03</td>\n",
       "      <td>0.00</td>\n",
       "      <td>C4</td>\n",
       "    </tr>\n",
       "    <tr>\n",
       "      <th>5037</th>\n",
       "      <td>FRS</td>\n",
       "      <td>Fire and Rescue Services</td>\n",
       "      <td>FRS 45 Station 8</td>\n",
       "      <td>M</td>\n",
       "      <td>132119.00</td>\n",
       "      <td>23386.03</td>\n",
       "      <td>9253.10</td>\n",
       "      <td>B2</td>\n",
       "    </tr>\n",
       "    <tr>\n",
       "      <th>7152</th>\n",
       "      <td>LIB</td>\n",
       "      <td>Department of Public Libraries</td>\n",
       "      <td>LIB 71 Brigadier General Charles E. McGee Library</td>\n",
       "      <td>F</td>\n",
       "      <td>34434.72</td>\n",
       "      <td>0.00</td>\n",
       "      <td>0.00</td>\n",
       "      <td>21</td>\n",
       "    </tr>\n",
       "    <tr>\n",
       "      <th>5329</th>\n",
       "      <td>HHS</td>\n",
       "      <td>Department of Health and Human Services</td>\n",
       "      <td>HHS 60 Aging &amp; Disability Services Division</td>\n",
       "      <td>F</td>\n",
       "      <td>98228.00</td>\n",
       "      <td>0.00</td>\n",
       "      <td>3517.55</td>\n",
       "      <td>21</td>\n",
       "    </tr>\n",
       "  </tbody>\n",
       "</table>\n",
       "</div>"
      ],
      "text/plain": [
       "     Department                          Department_Name  \\\n",
       "739         CEC             Community Engagement Cluster   \n",
       "1180        COR            Correction and Rehabilitation   \n",
       "5037        FRS                 Fire and Rescue Services   \n",
       "7152        LIB           Department of Public Libraries   \n",
       "5329        HHS  Department of Health and Human Services   \n",
       "\n",
       "                                               Division Gender  Base_Salary  \\\n",
       "739                       CEC 16 Community Partnerships      M     84218.44   \n",
       "1180                     COR 42 DS MCCF Unit 3 Security      M     58263.00   \n",
       "5037                                   FRS 45 Station 8      M    132119.00   \n",
       "7152  LIB 71 Brigadier General Charles E. McGee Library      F     34434.72   \n",
       "5329        HHS 60 Aging & Disability Services Division      F     98228.00   \n",
       "\n",
       "      Overtime_Pay  Longevity_Pay Grade  \n",
       "739           0.00           0.00   N23  \n",
       "1180      51204.03           0.00    C4  \n",
       "5037      23386.03        9253.10    B2  \n",
       "7152          0.00           0.00    21  \n",
       "5329          0.00        3517.55    21  "
      ]
     },
     "execution_count": 6,
     "metadata": {},
     "output_type": "execute_result"
    }
   ],
   "source": [
    "empleados.sample(5)"
   ]
  },
  {
   "cell_type": "markdown",
   "metadata": {},
   "source": [
    "### Comprobacion si hay valores faltantes"
   ]
  },
  {
   "cell_type": "code",
   "execution_count": 7,
   "metadata": {},
   "outputs": [
    {
     "name": "stdout",
     "output_type": "stream",
     "text": [
      "<class 'pandas.core.frame.DataFrame'>\n",
      "RangeIndex: 10291 entries, 0 to 10290\n",
      "Data columns (total 8 columns):\n",
      " #   Column           Non-Null Count  Dtype  \n",
      "---  ------           --------------  -----  \n",
      " 0   Department       10291 non-null  object \n",
      " 1   Department_Name  10291 non-null  object \n",
      " 2   Division         10291 non-null  object \n",
      " 3   Gender           10291 non-null  object \n",
      " 4   Base_Salary      10291 non-null  float64\n",
      " 5   Overtime_Pay     10291 non-null  float64\n",
      " 6   Longevity_Pay    10291 non-null  float64\n",
      " 7   Grade            10258 non-null  object \n",
      "dtypes: float64(3), object(5)\n",
      "memory usage: 643.3+ KB\n"
     ]
    }
   ],
   "source": [
    "empleados.info()"
   ]
  },
  {
   "cell_type": "code",
   "execution_count": 8,
   "metadata": {},
   "outputs": [
    {
     "data": {
      "text/plain": [
       "Department          0\n",
       "Department_Name     0\n",
       "Division            0\n",
       "Gender              0\n",
       "Base_Salary         0\n",
       "Overtime_Pay        0\n",
       "Longevity_Pay       0\n",
       "Grade              33\n",
       "dtype: int64"
      ]
     },
     "execution_count": 8,
     "metadata": {},
     "output_type": "execute_result"
    }
   ],
   "source": [
    "empleados.isnull().sum()"
   ]
  },
  {
   "cell_type": "markdown",
   "metadata": {},
   "source": [
    "3. **Transformación de datos**"
   ]
  },
  {
   "cell_type": "code",
   "execution_count": 9,
   "metadata": {},
   "outputs": [],
   "source": [
    "empleados['Salario_mensual']=empleados['Base_Salary']/12"
   ]
  },
  {
   "cell_type": "code",
   "execution_count": 10,
   "metadata": {},
   "outputs": [
    {
     "data": {
      "text/html": [
       "<div>\n",
       "<style scoped>\n",
       "    .dataframe tbody tr th:only-of-type {\n",
       "        vertical-align: middle;\n",
       "    }\n",
       "\n",
       "    .dataframe tbody tr th {\n",
       "        vertical-align: top;\n",
       "    }\n",
       "\n",
       "    .dataframe thead th {\n",
       "        text-align: right;\n",
       "    }\n",
       "</style>\n",
       "<table border=\"1\" class=\"dataframe\">\n",
       "  <thead>\n",
       "    <tr style=\"text-align: right;\">\n",
       "      <th></th>\n",
       "      <th>Department</th>\n",
       "      <th>Department_Name</th>\n",
       "      <th>Division</th>\n",
       "      <th>Gender</th>\n",
       "      <th>Base_Salary</th>\n",
       "      <th>Overtime_Pay</th>\n",
       "      <th>Longevity_Pay</th>\n",
       "      <th>Grade</th>\n",
       "      <th>Salario_mensual</th>\n",
       "    </tr>\n",
       "  </thead>\n",
       "  <tbody>\n",
       "    <tr>\n",
       "      <th>6925</th>\n",
       "      <td>HHS</td>\n",
       "      <td>Department of Health and Human Services</td>\n",
       "      <td>HHS 60 Office of Eligibility and Support Services</td>\n",
       "      <td>F</td>\n",
       "      <td>76404.7307</td>\n",
       "      <td>0.0</td>\n",
       "      <td>0.0</td>\n",
       "      <td>20</td>\n",
       "      <td>6367.060892</td>\n",
       "    </tr>\n",
       "  </tbody>\n",
       "</table>\n",
       "</div>"
      ],
      "text/plain": [
       "     Department                          Department_Name  \\\n",
       "6925        HHS  Department of Health and Human Services   \n",
       "\n",
       "                                               Division Gender  Base_Salary  \\\n",
       "6925  HHS 60 Office of Eligibility and Support Services      F   76404.7307   \n",
       "\n",
       "      Overtime_Pay  Longevity_Pay Grade  Salario_mensual  \n",
       "6925           0.0            0.0    20      6367.060892  "
      ]
     },
     "execution_count": 10,
     "metadata": {},
     "output_type": "execute_result"
    }
   ],
   "source": [
    "empleados.sample()"
   ]
  },
  {
   "cell_type": "markdown",
   "metadata": {},
   "source": [
    "- Calcular el promedio de salario por departamento."
   ]
  },
  {
   "cell_type": "code",
   "execution_count": 18,
   "metadata": {},
   "outputs": [],
   "source": [
    "empleados[\"Salario_mensual\"] = empleados[\"Base_Salary\"] / 12\n",
    "promedio_salario = empleados.groupby(\"Department_Name\")[\"Salario_mensual\"].mean()\n",
    "empleados_mas_de_160_horas = empleados[empleados[\"Salario_mensual\"] > 160]"
   ]
  },
  {
   "cell_type": "code",
   "execution_count": 19,
   "metadata": {},
   "outputs": [
    {
     "data": {
      "text/html": [
       "<div>\n",
       "<style scoped>\n",
       "    .dataframe tbody tr th:only-of-type {\n",
       "        vertical-align: middle;\n",
       "    }\n",
       "\n",
       "    .dataframe tbody tr th {\n",
       "        vertical-align: top;\n",
       "    }\n",
       "\n",
       "    .dataframe thead th {\n",
       "        text-align: right;\n",
       "    }\n",
       "</style>\n",
       "<table border=\"1\" class=\"dataframe\">\n",
       "  <thead>\n",
       "    <tr style=\"text-align: right;\">\n",
       "      <th></th>\n",
       "      <th>Department</th>\n",
       "      <th>Department_Name</th>\n",
       "      <th>Division</th>\n",
       "      <th>Gender</th>\n",
       "      <th>Base_Salary</th>\n",
       "      <th>Overtime_Pay</th>\n",
       "      <th>Longevity_Pay</th>\n",
       "      <th>Grade</th>\n",
       "      <th>Salario_mensual</th>\n",
       "    </tr>\n",
       "  </thead>\n",
       "  <tbody>\n",
       "    <tr>\n",
       "      <th>1242</th>\n",
       "      <td>COR</td>\n",
       "      <td>Correction and Rehabilitation</td>\n",
       "      <td>COR 42 DS MCDC Custody and Security</td>\n",
       "      <td>F</td>\n",
       "      <td>95927.0</td>\n",
       "      <td>57849.94</td>\n",
       "      <td>1661.14</td>\n",
       "      <td>C5</td>\n",
       "      <td>7993.916667</td>\n",
       "    </tr>\n",
       "  </tbody>\n",
       "</table>\n",
       "</div>"
      ],
      "text/plain": [
       "     Department                Department_Name  \\\n",
       "1242        COR  Correction and Rehabilitation   \n",
       "\n",
       "                                 Division Gender  Base_Salary  Overtime_Pay  \\\n",
       "1242  COR 42 DS MCDC Custody and Security      F      95927.0      57849.94   \n",
       "\n",
       "      Longevity_Pay Grade  Salario_mensual  \n",
       "1242        1661.14    C5      7993.916667  "
      ]
     },
     "execution_count": 19,
     "metadata": {},
     "output_type": "execute_result"
    }
   ],
   "source": [
    "empleados.sample()"
   ]
  },
  {
   "cell_type": "code",
   "execution_count": 13,
   "metadata": {},
   "outputs": [
    {
     "data": {
      "text/plain": [
       "Department_Name\n",
       "Alcohol Beverage Services                                      5404.434987\n",
       "Board of Appeals Department                                    8706.877244\n",
       "Board of Elections                                             7126.428071\n",
       "Community Engagement Cluster                                   6480.344856\n",
       "Community Use of Public Facilities                             7625.927152\n",
       "Correction and Rehabilitation                                  7080.015017\n",
       "County Attorney's Office                                      10806.739197\n",
       "County Council                                                 8812.880424\n",
       "Department of Environmental Protection                         8720.372235\n",
       "Department of Finance                                          9594.153443\n",
       "Department of General Services                                 7668.492105\n",
       "Department of Health and Human Services                        7422.027654\n",
       "Department of Housing and Community Affairs                    8708.815398\n",
       "Department of Permitting Services                              8694.258714\n",
       "Department of Police                                           7589.239663\n",
       "Department of Public Libraries                                 5369.049808\n",
       "Department of Recreation                                       7002.318728\n",
       "Department of Technology and Enterprise Business Solutions    11036.767610\n",
       "Department of Transportation                                   6811.711888\n",
       "Ethics Commission                                             11782.368750\n",
       "Fire and Rescue Services                                       8007.656340\n",
       "Merit System Protection Board Department                       7742.237246\n",
       "Non-Departmental Account                                      11737.532059\n",
       "Office of Agriculture                                          8384.347672\n",
       "Office of Animal Services                                      6376.134613\n",
       "Office of Consumer Protection                                  8900.287743\n",
       "Office of Emergency Management and Homeland Security           9259.609603\n",
       "Office of Food Systems Resilience                              9398.138889\n",
       "Office of Grants Management                                    8716.603000\n",
       "Office of Human Resources                                      9151.357365\n",
       "Office of Human Rights                                         9015.183677\n",
       "Office of Intergovernmental Relations Department              13766.395833\n",
       "Office of Labor Relations                                     11539.802292\n",
       "Office of Legislative Oversight                               11134.665224\n",
       "Office of Management and Budget                               10680.399643\n",
       "Office of Procurement                                          8609.478678\n",
       "Office of Public Information                                   7388.630391\n",
       "Office of Racial Equity and Social Justice                    10175.147764\n",
       "Office of Zoning and Administrative Hearings                  11991.707560\n",
       "Office of the Inspector General                               10553.158141\n",
       "Offices of the County Executive                               10659.977880\n",
       "Sheriff's Office                                               7491.022187\n",
       "Name: Salario_mensual, dtype: float64"
      ]
     },
     "execution_count": 13,
     "metadata": {},
     "output_type": "execute_result"
    }
   ],
   "source": [
    "promedio_salario"
   ]
  },
  {
   "cell_type": "markdown",
   "metadata": {},
   "source": [
    "- Filtrar los empleados que ganan más de $10 000 mensual."
   ]
  },
  {
   "cell_type": "code",
   "execution_count": 26,
   "metadata": {},
   "outputs": [
    {
     "data": {
      "text/html": [
       "<div>\n",
       "<style scoped>\n",
       "    .dataframe tbody tr th:only-of-type {\n",
       "        vertical-align: middle;\n",
       "    }\n",
       "\n",
       "    .dataframe tbody tr th {\n",
       "        vertical-align: top;\n",
       "    }\n",
       "\n",
       "    .dataframe thead th {\n",
       "        text-align: right;\n",
       "    }\n",
       "</style>\n",
       "<table border=\"1\" class=\"dataframe\">\n",
       "  <thead>\n",
       "    <tr style=\"text-align: right;\">\n",
       "      <th></th>\n",
       "      <th>Department</th>\n",
       "      <th>Department_Name</th>\n",
       "      <th>Division</th>\n",
       "      <th>Gender</th>\n",
       "      <th>Base_Salary</th>\n",
       "      <th>Overtime_Pay</th>\n",
       "      <th>Longevity_Pay</th>\n",
       "      <th>Grade</th>\n",
       "      <th>Salario_mensual</th>\n",
       "    </tr>\n",
       "  </thead>\n",
       "  <tbody>\n",
       "    <tr>\n",
       "      <th>0</th>\n",
       "      <td>ABS</td>\n",
       "      <td>Alcohol Beverage Services</td>\n",
       "      <td>ABS 85 Administration</td>\n",
       "      <td>M</td>\n",
       "      <td>175873.00</td>\n",
       "      <td>0.0</td>\n",
       "      <td>0.00</td>\n",
       "      <td>M2</td>\n",
       "      <td>14656.083333</td>\n",
       "    </tr>\n",
       "    <tr>\n",
       "      <th>1</th>\n",
       "      <td>ABS</td>\n",
       "      <td>Alcohol Beverage Services</td>\n",
       "      <td>ABS 85 Administration</td>\n",
       "      <td>M</td>\n",
       "      <td>145613.36</td>\n",
       "      <td>0.0</td>\n",
       "      <td>0.00</td>\n",
       "      <td>M3</td>\n",
       "      <td>12134.446667</td>\n",
       "    </tr>\n",
       "    <tr>\n",
       "      <th>2</th>\n",
       "      <td>ABS</td>\n",
       "      <td>Alcohol Beverage Services</td>\n",
       "      <td>ABS 85 Administration</td>\n",
       "      <td>F</td>\n",
       "      <td>136970.00</td>\n",
       "      <td>0.0</td>\n",
       "      <td>0.00</td>\n",
       "      <td>M3</td>\n",
       "      <td>11414.166667</td>\n",
       "    </tr>\n",
       "    <tr>\n",
       "      <th>8</th>\n",
       "      <td>ABS</td>\n",
       "      <td>Alcohol Beverage Services</td>\n",
       "      <td>ABS 85 Administrative Services</td>\n",
       "      <td>F</td>\n",
       "      <td>149464.15</td>\n",
       "      <td>0.0</td>\n",
       "      <td>9021.82</td>\n",
       "      <td>18</td>\n",
       "      <td>12455.345833</td>\n",
       "    </tr>\n",
       "    <tr>\n",
       "      <th>13</th>\n",
       "      <td>ABS</td>\n",
       "      <td>Alcohol Beverage Services</td>\n",
       "      <td>ABS 85 Administrative Services</td>\n",
       "      <td>M</td>\n",
       "      <td>139407.15</td>\n",
       "      <td>0.0</td>\n",
       "      <td>0.00</td>\n",
       "      <td>M3</td>\n",
       "      <td>11617.262500</td>\n",
       "    </tr>\n",
       "    <tr>\n",
       "      <th>...</th>\n",
       "      <td>...</td>\n",
       "      <td>...</td>\n",
       "      <td>...</td>\n",
       "      <td>...</td>\n",
       "      <td>...</td>\n",
       "      <td>...</td>\n",
       "      <td>...</td>\n",
       "      <td>...</td>\n",
       "      <td>...</td>\n",
       "    </tr>\n",
       "    <tr>\n",
       "      <th>10284</th>\n",
       "      <td>TBS</td>\n",
       "      <td>Department of Technology and Enterprise Busine...</td>\n",
       "      <td>TBS 34 OSP Low Code Governance and Administration</td>\n",
       "      <td>M</td>\n",
       "      <td>134500.00</td>\n",
       "      <td>0.0</td>\n",
       "      <td>0.00</td>\n",
       "      <td>N28</td>\n",
       "      <td>11208.333333</td>\n",
       "    </tr>\n",
       "    <tr>\n",
       "      <th>10285</th>\n",
       "      <td>TBS</td>\n",
       "      <td>Department of Technology and Enterprise Busine...</td>\n",
       "      <td>TBS 34 OSP Low Code Governance and Administration</td>\n",
       "      <td>M</td>\n",
       "      <td>158802.00</td>\n",
       "      <td>0.0</td>\n",
       "      <td>0.00</td>\n",
       "      <td>N32</td>\n",
       "      <td>13233.500000</td>\n",
       "    </tr>\n",
       "    <tr>\n",
       "      <th>10286</th>\n",
       "      <td>TBS</td>\n",
       "      <td>Department of Technology and Enterprise Busine...</td>\n",
       "      <td>TBS 34 OSP Low Code Governance and Administration</td>\n",
       "      <td>M</td>\n",
       "      <td>134500.00</td>\n",
       "      <td>0.0</td>\n",
       "      <td>0.00</td>\n",
       "      <td>N28</td>\n",
       "      <td>11208.333333</td>\n",
       "    </tr>\n",
       "    <tr>\n",
       "      <th>10287</th>\n",
       "      <td>ZAH</td>\n",
       "      <td>Office of Zoning and Administrative Hearings</td>\n",
       "      <td>ZAH 05 Director</td>\n",
       "      <td>F</td>\n",
       "      <td>215032.10</td>\n",
       "      <td>0.0</td>\n",
       "      <td>0.00</td>\n",
       "      <td>NaN</td>\n",
       "      <td>17919.341667</td>\n",
       "    </tr>\n",
       "    <tr>\n",
       "      <th>10290</th>\n",
       "      <td>ZAH</td>\n",
       "      <td>Office of Zoning and Administrative Hearings</td>\n",
       "      <td>ZAH 05 Zoning and Administrative Hearings</td>\n",
       "      <td>F</td>\n",
       "      <td>177976.31</td>\n",
       "      <td>0.0</td>\n",
       "      <td>0.00</td>\n",
       "      <td>N35</td>\n",
       "      <td>14831.359167</td>\n",
       "    </tr>\n",
       "  </tbody>\n",
       "</table>\n",
       "<p>1317 rows × 9 columns</p>\n",
       "</div>"
      ],
      "text/plain": [
       "      Department                                    Department_Name  \\\n",
       "0            ABS                          Alcohol Beverage Services   \n",
       "1            ABS                          Alcohol Beverage Services   \n",
       "2            ABS                          Alcohol Beverage Services   \n",
       "8            ABS                          Alcohol Beverage Services   \n",
       "13           ABS                          Alcohol Beverage Services   \n",
       "...          ...                                                ...   \n",
       "10284        TBS  Department of Technology and Enterprise Busine...   \n",
       "10285        TBS  Department of Technology and Enterprise Busine...   \n",
       "10286        TBS  Department of Technology and Enterprise Busine...   \n",
       "10287        ZAH       Office of Zoning and Administrative Hearings   \n",
       "10290        ZAH       Office of Zoning and Administrative Hearings   \n",
       "\n",
       "                                                Division Gender  Base_Salary  \\\n",
       "0                                  ABS 85 Administration      M    175873.00   \n",
       "1                                  ABS 85 Administration      M    145613.36   \n",
       "2                                  ABS 85 Administration      F    136970.00   \n",
       "8                         ABS 85 Administrative Services      F    149464.15   \n",
       "13                        ABS 85 Administrative Services      M    139407.15   \n",
       "...                                                  ...    ...          ...   \n",
       "10284  TBS 34 OSP Low Code Governance and Administration      M    134500.00   \n",
       "10285  TBS 34 OSP Low Code Governance and Administration      M    158802.00   \n",
       "10286  TBS 34 OSP Low Code Governance and Administration      M    134500.00   \n",
       "10287                                    ZAH 05 Director      F    215032.10   \n",
       "10290          ZAH 05 Zoning and Administrative Hearings      F    177976.31   \n",
       "\n",
       "       Overtime_Pay  Longevity_Pay Grade  Salario_mensual  \n",
       "0               0.0           0.00    M2     14656.083333  \n",
       "1               0.0           0.00    M3     12134.446667  \n",
       "2               0.0           0.00    M3     11414.166667  \n",
       "8               0.0        9021.82    18     12455.345833  \n",
       "13              0.0           0.00    M3     11617.262500  \n",
       "...             ...            ...   ...              ...  \n",
       "10284           0.0           0.00   N28     11208.333333  \n",
       "10285           0.0           0.00   N32     13233.500000  \n",
       "10286           0.0           0.00   N28     11208.333333  \n",
       "10287           0.0           0.00   NaN     17919.341667  \n",
       "10290           0.0           0.00   N35     14831.359167  \n",
       "\n",
       "[1317 rows x 9 columns]"
      ]
     },
     "execution_count": 26,
     "metadata": {},
     "output_type": "execute_result"
    }
   ],
   "source": [
    "empleados[empleados['Salario_mensual']>10000]"
   ]
  },
  {
   "cell_type": "markdown",
   "metadata": {},
   "source": [
    "4. **Agregación de datos**:"
   ]
  },
  {
   "cell_type": "markdown",
   "metadata": {},
   "source": [
    "- Calcular el salario total pagado por la empresa en el último mes."
   ]
  },
  {
   "cell_type": "code",
   "execution_count": 20,
   "metadata": {},
   "outputs": [
    {
     "data": {
      "text/plain": [
       "77450208.13946667"
      ]
     },
     "execution_count": 20,
     "metadata": {},
     "output_type": "execute_result"
    }
   ],
   "source": [
    "empleados['Salario_mensual'].sum()"
   ]
  },
  {
   "cell_type": "code",
   "execution_count": 38,
   "metadata": {},
   "outputs": [],
   "source": [
    "empleados['Salario_bruto'] = empleados['Salario_mensual']  + empleados['Overtime_Pay'] / 12 + empleados['Longevity_Pay'] / 12"
   ]
  },
  {
   "cell_type": "code",
   "execution_count": 39,
   "metadata": {},
   "outputs": [
    {
     "data": {
      "text/plain": [
       "85696019.19696666"
      ]
     },
     "execution_count": 39,
     "metadata": {},
     "output_type": "execute_result"
    }
   ],
   "source": [
    "empleados['Salario_bruto'].sum()"
   ]
  },
  {
   "cell_type": "code",
   "execution_count": 37,
   "metadata": {},
   "outputs": [
    {
     "name": "stdout",
     "output_type": "stream",
     "text": [
      "La nomina mensual es de 85696019.19696666\n"
     ]
    }
   ],
   "source": [
    "nomina = empleados['Salario_bruto'].sum()\n",
    "print(f'La nomina mensual es de {nomina}')"
   ]
  },
  {
   "cell_type": "code",
   "execution_count": 41,
   "metadata": {},
   "outputs": [
    {
     "data": {
      "text/html": [
       "<div>\n",
       "<style scoped>\n",
       "    .dataframe tbody tr th:only-of-type {\n",
       "        vertical-align: middle;\n",
       "    }\n",
       "\n",
       "    .dataframe tbody tr th {\n",
       "        vertical-align: top;\n",
       "    }\n",
       "\n",
       "    .dataframe thead th {\n",
       "        text-align: right;\n",
       "    }\n",
       "</style>\n",
       "<table border=\"1\" class=\"dataframe\">\n",
       "  <thead>\n",
       "    <tr style=\"text-align: right;\">\n",
       "      <th></th>\n",
       "      <th>Department</th>\n",
       "      <th>Department_Name</th>\n",
       "      <th>Division</th>\n",
       "      <th>Gender</th>\n",
       "      <th>Base_Salary</th>\n",
       "      <th>Overtime_Pay</th>\n",
       "      <th>Longevity_Pay</th>\n",
       "      <th>Grade</th>\n",
       "      <th>Salario_mensual</th>\n",
       "      <th>Salario_bruto</th>\n",
       "    </tr>\n",
       "  </thead>\n",
       "  <tbody>\n",
       "    <tr>\n",
       "      <th>4574</th>\n",
       "      <td>FRS</td>\n",
       "      <td>Fire and Rescue Services</td>\n",
       "      <td>FRS 45 Station 25</td>\n",
       "      <td>M</td>\n",
       "      <td>132119.0</td>\n",
       "      <td>223998.01</td>\n",
       "      <td>14123.92</td>\n",
       "      <td>B2</td>\n",
       "      <td>11009.916667</td>\n",
       "      <td>30853.410833</td>\n",
       "    </tr>\n",
       "  </tbody>\n",
       "</table>\n",
       "</div>"
      ],
      "text/plain": [
       "     Department           Department_Name           Division Gender  \\\n",
       "4574        FRS  Fire and Rescue Services  FRS 45 Station 25      M   \n",
       "\n",
       "      Base_Salary  Overtime_Pay  Longevity_Pay Grade  Salario_mensual  \\\n",
       "4574     132119.0     223998.01       14123.92    B2     11009.916667   \n",
       "\n",
       "      Salario_bruto  \n",
       "4574   30853.410833  "
      ]
     },
     "execution_count": 41,
     "metadata": {},
     "output_type": "execute_result"
    }
   ],
   "source": [
    "empleados[empleados['Salario_bruto']==empleados['Salario_bruto'].max()]"
   ]
  },
  {
   "cell_type": "markdown",
   "metadata": {},
   "source": [
    "- Encontrar el o los empleado(s) con el salario más alto."
   ]
  },
  {
   "cell_type": "code",
   "execution_count": 21,
   "metadata": {},
   "outputs": [
    {
     "data": {
      "text/plain": [
       "Department                                                  CEX\n",
       "Department_Name                 Offices of the County Executive\n",
       "Division           CEX 15 Chief Administrative Officer's Office\n",
       "Gender                                                        M\n",
       "Base_Salary                                            292000.0\n",
       "Overtime_Pay                                                0.0\n",
       "Longevity_Pay                                               0.0\n",
       "Grade                                                       EX0\n",
       "Salario_mensual                                    24333.333333\n",
       "Name: 821, dtype: object"
      ]
     },
     "execution_count": 21,
     "metadata": {},
     "output_type": "execute_result"
    }
   ],
   "source": [
    "empleados.loc[empleados['Salario_mensual'].idxmax()]"
   ]
  },
  {
   "cell_type": "markdown",
   "metadata": {},
   "source": [
    " - Calcular el total de empleados en cada departamento."
   ]
  },
  {
   "cell_type": "code",
   "execution_count": 22,
   "metadata": {},
   "outputs": [
    {
     "data": {
      "text/plain": [
       "Department_Name\n",
       "Department of Health and Human Services                       1877\n",
       "Department of Police                                          1794\n",
       "Fire and Rescue Services                                      1440\n",
       "Department of Transportation                                  1289\n",
       "Correction and Rehabilitation                                  513\n",
       "Alcohol Beverage Services                                      462\n",
       "Department of Public Libraries                                 427\n",
       "Department of General Services                                 424\n",
       "Department of Permitting Services                              243\n",
       "Department of Recreation                                       193\n",
       "Sheriff's Office                                               188\n",
       "Department of Environmental Protection                         185\n",
       "Department of Technology and Enterprise Business Solutions     159\n",
       "County Council                                                 131\n",
       "Department of Finance                                          121\n",
       "Community Engagement Cluster                                   105\n",
       "Department of Housing and Community Affairs                    101\n",
       "County Attorney's Office                                        78\n",
       "Office of Animal Services                                       77\n",
       "Office of Human Resources                                       68\n",
       "Office of Public Information                                    68\n",
       "Offices of the County Executive                                 48\n",
       "Office of Management and Budget                                 46\n",
       "Office of Procurement                                           36\n",
       "Board of Elections                                              34\n",
       "Community Use of Public Facilities                              30\n",
       "Office of Emergency Management and Homeland Security            21\n",
       "Non-Departmental Account                                        20\n",
       "Office of the Inspector General                                 20\n",
       "Office of Consumer Protection                                   19\n",
       "Office of Legislative Oversight                                 15\n",
       "Office of Agriculture                                           11\n",
       "Office of Human Rights                                          11\n",
       "Office of Labor Relations                                        8\n",
       "Office of Racial Equity and Social Justice                       6\n",
       "Office of Grants Management                                      5\n",
       "Office of Intergovernmental Relations Department                 4\n",
       "Office of Zoning and Administrative Hearings                     4\n",
       "Office of Food Systems Resilience                                3\n",
       "Board of Appeals Department                                      3\n",
       "Merit System Protection Board Department                         2\n",
       "Ethics Commission                                                2\n",
       "Name: count, dtype: int64"
      ]
     },
     "execution_count": 22,
     "metadata": {},
     "output_type": "execute_result"
    }
   ],
   "source": [
    "empleados[\"Department_Name\"].value_counts()"
   ]
  },
  {
   "cell_type": "code",
   "execution_count": 46,
   "metadata": {},
   "outputs": [
    {
     "data": {
      "text/plain": [
       "Department_Name\n",
       "Department of Health and Human Services                       1877\n",
       "Department of Police                                          1794\n",
       "Fire and Rescue Services                                      1440\n",
       "Department of Transportation                                  1289\n",
       "Correction and Rehabilitation                                  513\n",
       "Alcohol Beverage Services                                      462\n",
       "Department of Public Libraries                                 427\n",
       "Department of General Services                                 424\n",
       "Department of Permitting Services                              243\n",
       "Department of Recreation                                       193\n",
       "Sheriff's Office                                               188\n",
       "Department of Environmental Protection                         185\n",
       "Department of Technology and Enterprise Business Solutions     159\n",
       "County Council                                                 131\n",
       "Department of Finance                                          121\n",
       "Community Engagement Cluster                                   105\n",
       "Department of Housing and Community Affairs                    101\n",
       "County Attorney's Office                                        78\n",
       "Office of Animal Services                                       77\n",
       "Office of Public Information                                    68\n",
       "Office of Human Resources                                       68\n",
       "Offices of the County Executive                                 48\n",
       "Office of Management and Budget                                 46\n",
       "Office of Procurement                                           36\n",
       "Board of Elections                                              34\n",
       "Community Use of Public Facilities                              30\n",
       "Office of Emergency Management and Homeland Security            21\n",
       "Non-Departmental Account                                        20\n",
       "Office of the Inspector General                                 20\n",
       "Office of Consumer Protection                                   19\n",
       "Office of Legislative Oversight                                 15\n",
       "Office of Human Rights                                          11\n",
       "Office of Agriculture                                           11\n",
       "Office of Labor Relations                                        8\n",
       "Office of Racial Equity and Social Justice                       6\n",
       "Office of Grants Management                                      5\n",
       "Office of Intergovernmental Relations Department                 4\n",
       "Office of Zoning and Administrative Hearings                     4\n",
       "Office of Food Systems Resilience                                3\n",
       "Board of Appeals Department                                      3\n",
       "Ethics Commission                                                2\n",
       "Merit System Protection Board Department                         2\n",
       "Name: Department, dtype: int64"
      ]
     },
     "execution_count": 46,
     "metadata": {},
     "output_type": "execute_result"
    }
   ],
   "source": [
    "empleados.groupby(\"Department_Name\")['Department'].count().sort_values(ascending=False)"
   ]
  },
  {
   "cell_type": "markdown",
   "metadata": {},
   "source": [
    "5. **Visualización de resultados**:"
   ]
  },
  {
   "cell_type": "markdown",
   "metadata": {},
   "source": [
    "- Crear un gráfico de barras que muestre el número de empleados en cada departamento."
   ]
  },
  {
   "cell_type": "code",
   "execution_count": 23,
   "metadata": {},
   "outputs": [
    {
     "data": {
      "text/plain": [
       "<Axes: xlabel='Department_Name'>"
      ]
     },
     "execution_count": 23,
     "metadata": {},
     "output_type": "execute_result"
    },
    {
     "data": {
      "image/png": "[encoded data removed]",
      "text/plain": [
       "<Figure size 640x480 with 1 Axes>"
      ]
     },
     "metadata": {},
     "output_type": "display_data"
    }
   ],
   "source": [
    "empleados['Department_Name'].value_counts().plot(kind=\"bar\")"
   ]
  },
  {
   "cell_type": "code",
   "execution_count": 24,
   "metadata": {},
   "outputs": [
    {
     "data": {
      "text/plain": [
       "Text(0.5, 0, 'Departament_name')"
      ]
     },
     "execution_count": 24,
     "metadata": {},
     "output_type": "execute_result"
    },
    {
     "data": {
      "image/png": "[encoded data removed]",
      "text/plain": [
       "<Figure size 640x480 with 1 Axes>"
      ]
     },
     "metadata": {},
     "output_type": "display_data"
    }
   ],
   "source": [
    "plt.xlabel('Departament_name')"
   ]
  },
  {
   "cell_type": "code",
   "execution_count": 25,
   "metadata": {},
   "outputs": [
    {
     "data": {
      "text/plain": [
       "Text(0, 0.5, 'Numero de empleados')"
      ]
     },
     "execution_count": 25,
     "metadata": {},
     "output_type": "execute_result"
    },
    {
     "data": {
      "image/png": "[encoded data removed]",
      "text/plain": [
       "<Figure size 640x480 with 1 Axes>"
      ]
     },
     "metadata": {},
     "output_type": "display_data"
    }
   ],
   "source": [
    "plt.ylabel(\"Numero de empleados\")"
   ]
  }
 ],
 "metadata": {
  "kernelspec": {
   "display_name": "Python 3",
   "language": "python",
   "name": "python3"
  },
  "language_info": {
   "codemirror_mode": {
    "name": "ipython",
    "version": 3
   },
   "file_extension": ".py",
   "mimetype": "text/x-python",
   "name": "python",
   "nbconvert_exporter": "python",
   "pygments_lexer": "ipython3",
   "version": "3.11.9"
  }
 },
 "nbformat": 4,
 "nbformat_minor": 2
}
